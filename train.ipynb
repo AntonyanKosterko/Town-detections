{
 "cells": [
  {
   "cell_type": "code",
   "execution_count": null,
   "metadata": {},
   "outputs": [],
   "source": []
  }
 ],
 "metadata": {
  "kernelspec": {
   "display_name": "Python 3.12.1 64-bit",
   "language": "python",
   "name": "python3"
  },
  "language_info": {
   "name": "python",
   "version": "3.12.1"
  },
  "orig_nbformat": 4,
  "vscode": {
   "interpreter": {
    "hash": "6edd30b5deff44248cf18922d46f3815424cef2a4db09c11cbb11887b035a5cd"
   }
  }
 },
 "nbformat": 4,
 "nbformat_minor": 2
}
